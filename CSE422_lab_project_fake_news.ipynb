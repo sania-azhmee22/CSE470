{
  "nbformat": 4,
  "nbformat_minor": 0,
  "metadata": {
    "colab": {
      "provenance": [],
      "authorship_tag": "ABX9TyO/6hc4K9l9D8YHD1uBuQMj",
      "include_colab_link": true
    },
    "kernelspec": {
      "name": "python3",
      "display_name": "Python 3"
    },
    "language_info": {
      "name": "python"
    }
  },
  "cells": [
    {
      "cell_type": "markdown",
      "metadata": {
        "id": "view-in-github",
        "colab_type": "text"
      },
      "source": [
        "<a href=\"https://colab.research.google.com/github/sania-azhmee22/CSE470/blob/main/CSE422_lab_project_fake_news.ipynb\" target=\"_parent\"><img src=\"https://colab.research.google.com/assets/colab-badge.svg\" alt=\"Open In Colab\"/></a>"
      ]
    },
    {
      "cell_type": "code",
      "source": [
        "import pandas as pd\n",
        "import numpy as np\n",
        "import matplotlib.pyplot as plt\n",
        "import seaborn as sns\n",
        "\n",
        "from google.colab import drive"
      ],
      "metadata": {
        "id": "VTwNixEg0OPY"
      },
      "execution_count": 1,
      "outputs": []
    },
    {
      "cell_type": "code",
      "source": [
        "dv=drive.mount(\"/content/drive\")"
      ],
      "metadata": {
        "colab": {
          "base_uri": "https://localhost:8080/"
        },
        "id": "E8B62aM_0R6R",
        "outputId": "ed0455e3-5881-4fba-f975-44b75fea05ab"
      },
      "execution_count": null,
      "outputs": [
        {
          "output_type": "stream",
          "name": "stdout",
          "text": [
            "Mounted at /content/drive\n"
          ]
        }
      ]
    },
    {
      "cell_type": "markdown",
      "source": [
        "DATA PREPROCESSING"
      ],
      "metadata": {
        "id": "j74fucWX1gel"
      }
    },
    {
      "cell_type": "markdown",
      "source": [
        "1. DATA LOADING"
      ],
      "metadata": {
        "id": "49ATblnE-nOb"
      }
    },
    {
      "cell_type": "code",
      "source": [
        "# data loading\n",
        "\n",
        "import urllib\n",
        "import json\n",
        "\n",
        "def load_convert_data(url):\n",
        "    \"\"\"\n",
        "    Downloads the json file from net and convert into pandas dataframe format.\n",
        "    \"\"\"\n",
        "    with urllib.request.urlopen(url) as url:\n",
        "        df = json.loads(url.read().decode())\n",
        "        df = pd.DataFrame.from_dict(df)\n",
        "        \n",
        "    return df"
      ],
      "metadata": {
        "id": "QlwYibLK1AD-"
      },
      "execution_count": null,
      "outputs": []
    },
    {
      "cell_type": "markdown",
      "source": [
        "Given:\n",
        "\n",
        "There are 4 files:\n",
        "\n",
        "1.training - set of real news.\n",
        "\n",
        "2.testing - set of real news.\n",
        "\n",
        "3.training - set of fake news.\n",
        "\n",
        "4.testing - set of fake news"
      ],
      "metadata": {
        "id": "Cef_VZNV3JBt"
      }
    },
    {
      "cell_type": "code",
      "source": [
        "# Real news data\n",
        "real_train = load_convert_data(\"https://storage.googleapis.com/public-resources/dataset/real_train.json\")\n",
        "real_test = load_convert_data(\"https://storage.googleapis.com/public-resources/dataset/real_test.json\")"
      ],
      "metadata": {
        "id": "erT18hQz3Msm"
      },
      "execution_count": null,
      "outputs": []
    },
    {
      "cell_type": "code",
      "source": [
        "# Fake news data\n",
        "fake_train = load_convert_data(\"https://storage.googleapis.com/public-resources/dataset/fake_train.json\")\n",
        "fake_test = load_convert_data(\"https://storage.googleapis.com/public-resources/dataset/fake_test.json\")"
      ],
      "metadata": {
        "id": "8a6xCPZU3VnH"
      },
      "execution_count": null,
      "outputs": []
    },
    {
      "cell_type": "code",
      "source": [
        "real_train.head()"
      ],
      "metadata": {
        "colab": {
          "base_uri": "https://localhost:8080/",
          "height": 206
        },
        "id": "45V67fHf41t8",
        "outputId": "81471e4a-6386-4ab5-d44c-42429254f7b2"
      },
      "execution_count": null,
      "outputs": [
        {
          "output_type": "execute_result",
          "data": {
            "text/plain": [
              "                                                 url  \\\n",
              "0  https://www.thetimes.co.uk/edition/scotland/sc...   \n",
              "1     https://www.bbc.com/news/world-africa-52103799   \n",
              "2  https://www.thetimes.co.uk/edition/business/en...   \n",
              "3  https://www.theguardian.com/world/live/2020/fe...   \n",
              "4  https://yle.fi/uutiset/osasto/news/finnair_iss...   \n",
              "\n",
              "                                               title  \\\n",
              "0  Scots GPs told not to meet fever patients as f...   \n",
              "1  Coronavirus : Fighting al - Shabab propaganda ...   \n",
              "2                  Engineer fears China virus impact   \n",
              "3  Coronavirus : South Korean PM vows  swift  act...   \n",
              "4  Finnair issues profit warning over Covid - 19 ...   \n",
              "\n",
              "                                                text  \n",
              "0  Scots GPs told not to meet fever patients as f...  \n",
              "1  Coronavirus: Fighting al-Shabab propaganda in ...  \n",
              "2  Engineer fears China virus impact\\nA British e...  \n",
              "3  Here’s a summary of what’s happened so far on ...  \n",
              "4  Finnair issues profit warning over Covid-19 fe...  "
            ],
            "text/html": [
              "\n",
              "  <div id=\"df-1ff41b8b-68ae-4318-b35b-5d9652085083\">\n",
              "    <div class=\"colab-df-container\">\n",
              "      <div>\n",
              "<style scoped>\n",
              "    .dataframe tbody tr th:only-of-type {\n",
              "        vertical-align: middle;\n",
              "    }\n",
              "\n",
              "    .dataframe tbody tr th {\n",
              "        vertical-align: top;\n",
              "    }\n",
              "\n",
              "    .dataframe thead th {\n",
              "        text-align: right;\n",
              "    }\n",
              "</style>\n",
              "<table border=\"1\" class=\"dataframe\">\n",
              "  <thead>\n",
              "    <tr style=\"text-align: right;\">\n",
              "      <th></th>\n",
              "      <th>url</th>\n",
              "      <th>title</th>\n",
              "      <th>text</th>\n",
              "    </tr>\n",
              "  </thead>\n",
              "  <tbody>\n",
              "    <tr>\n",
              "      <th>0</th>\n",
              "      <td>https://www.thetimes.co.uk/edition/scotland/sc...</td>\n",
              "      <td>Scots GPs told not to meet fever patients as f...</td>\n",
              "      <td>Scots GPs told not to meet fever patients as f...</td>\n",
              "    </tr>\n",
              "    <tr>\n",
              "      <th>1</th>\n",
              "      <td>https://www.bbc.com/news/world-africa-52103799</td>\n",
              "      <td>Coronavirus : Fighting al - Shabab propaganda ...</td>\n",
              "      <td>Coronavirus: Fighting al-Shabab propaganda in ...</td>\n",
              "    </tr>\n",
              "    <tr>\n",
              "      <th>2</th>\n",
              "      <td>https://www.thetimes.co.uk/edition/business/en...</td>\n",
              "      <td>Engineer fears China virus impact</td>\n",
              "      <td>Engineer fears China virus impact\\nA British e...</td>\n",
              "    </tr>\n",
              "    <tr>\n",
              "      <th>3</th>\n",
              "      <td>https://www.theguardian.com/world/live/2020/fe...</td>\n",
              "      <td>Coronavirus : South Korean PM vows  swift  act...</td>\n",
              "      <td>Here’s a summary of what’s happened so far on ...</td>\n",
              "    </tr>\n",
              "    <tr>\n",
              "      <th>4</th>\n",
              "      <td>https://yle.fi/uutiset/osasto/news/finnair_iss...</td>\n",
              "      <td>Finnair issues profit warning over Covid - 19 ...</td>\n",
              "      <td>Finnair issues profit warning over Covid-19 fe...</td>\n",
              "    </tr>\n",
              "  </tbody>\n",
              "</table>\n",
              "</div>\n",
              "      <button class=\"colab-df-convert\" onclick=\"convertToInteractive('df-1ff41b8b-68ae-4318-b35b-5d9652085083')\"\n",
              "              title=\"Convert this dataframe to an interactive table.\"\n",
              "              style=\"display:none;\">\n",
              "        \n",
              "  <svg xmlns=\"http://www.w3.org/2000/svg\" height=\"24px\"viewBox=\"0 0 24 24\"\n",
              "       width=\"24px\">\n",
              "    <path d=\"M0 0h24v24H0V0z\" fill=\"none\"/>\n",
              "    <path d=\"M18.56 5.44l.94 2.06.94-2.06 2.06-.94-2.06-.94-.94-2.06-.94 2.06-2.06.94zm-11 1L8.5 8.5l.94-2.06 2.06-.94-2.06-.94L8.5 2.5l-.94 2.06-2.06.94zm10 10l.94 2.06.94-2.06 2.06-.94-2.06-.94-.94-2.06-.94 2.06-2.06.94z\"/><path d=\"M17.41 7.96l-1.37-1.37c-.4-.4-.92-.59-1.43-.59-.52 0-1.04.2-1.43.59L10.3 9.45l-7.72 7.72c-.78.78-.78 2.05 0 2.83L4 21.41c.39.39.9.59 1.41.59.51 0 1.02-.2 1.41-.59l7.78-7.78 2.81-2.81c.8-.78.8-2.07 0-2.86zM5.41 20L4 18.59l7.72-7.72 1.47 1.35L5.41 20z\"/>\n",
              "  </svg>\n",
              "      </button>\n",
              "      \n",
              "  <style>\n",
              "    .colab-df-container {\n",
              "      display:flex;\n",
              "      flex-wrap:wrap;\n",
              "      gap: 12px;\n",
              "    }\n",
              "\n",
              "    .colab-df-convert {\n",
              "      background-color: #E8F0FE;\n",
              "      border: none;\n",
              "      border-radius: 50%;\n",
              "      cursor: pointer;\n",
              "      display: none;\n",
              "      fill: #1967D2;\n",
              "      height: 32px;\n",
              "      padding: 0 0 0 0;\n",
              "      width: 32px;\n",
              "    }\n",
              "\n",
              "    .colab-df-convert:hover {\n",
              "      background-color: #E2EBFA;\n",
              "      box-shadow: 0px 1px 2px rgba(60, 64, 67, 0.3), 0px 1px 3px 1px rgba(60, 64, 67, 0.15);\n",
              "      fill: #174EA6;\n",
              "    }\n",
              "\n",
              "    [theme=dark] .colab-df-convert {\n",
              "      background-color: #3B4455;\n",
              "      fill: #D2E3FC;\n",
              "    }\n",
              "\n",
              "    [theme=dark] .colab-df-convert:hover {\n",
              "      background-color: #434B5C;\n",
              "      box-shadow: 0px 1px 3px 1px rgba(0, 0, 0, 0.15);\n",
              "      filter: drop-shadow(0px 1px 2px rgba(0, 0, 0, 0.3));\n",
              "      fill: #FFFFFF;\n",
              "    }\n",
              "  </style>\n",
              "\n",
              "      <script>\n",
              "        const buttonEl =\n",
              "          document.querySelector('#df-1ff41b8b-68ae-4318-b35b-5d9652085083 button.colab-df-convert');\n",
              "        buttonEl.style.display =\n",
              "          google.colab.kernel.accessAllowed ? 'block' : 'none';\n",
              "\n",
              "        async function convertToInteractive(key) {\n",
              "          const element = document.querySelector('#df-1ff41b8b-68ae-4318-b35b-5d9652085083');\n",
              "          const dataTable =\n",
              "            await google.colab.kernel.invokeFunction('convertToInteractive',\n",
              "                                                     [key], {});\n",
              "          if (!dataTable) return;\n",
              "\n",
              "          const docLinkHtml = 'Like what you see? Visit the ' +\n",
              "            '<a target=\"_blank\" href=https://colab.research.google.com/notebooks/data_table.ipynb>data table notebook</a>'\n",
              "            + ' to learn more about interactive tables.';\n",
              "          element.innerHTML = '';\n",
              "          dataTable['output_type'] = 'display_data';\n",
              "          await google.colab.output.renderOutput(dataTable, element);\n",
              "          const docLink = document.createElement('div');\n",
              "          docLink.innerHTML = docLinkHtml;\n",
              "          element.appendChild(docLink);\n",
              "        }\n",
              "      </script>\n",
              "    </div>\n",
              "  </div>\n",
              "  "
            ]
          },
          "metadata": {},
          "execution_count": 7
        }
      ]
    },
    {
      "cell_type": "code",
      "source": [
        "fake_train.head()"
      ],
      "metadata": {
        "colab": {
          "base_uri": "https://localhost:8080/",
          "height": 250
        },
        "id": "V3i_Uz7J-QNF",
        "outputId": "8bc881ce-c452-4591-f9c8-e01d63da9273"
      },
      "execution_count": null,
      "outputs": [
        {
          "output_type": "execute_result",
          "data": {
            "text/plain": [
              "                                                 url  \\\n",
              "0  https://nabd.com/s/71539812-b7228b/%D9%86%D8%B...   \n",
              "1  https://shamra.sy/news/article/8eb73454931e6d1...   \n",
              "2                     https://sudanewsnow.com/19800/   \n",
              "3  https://arabic.rt.com/press/1100276-%D8%A7%D9%...   \n",
              "4  https://www.kachaf.com/details.php?n=5e8957fe1...   \n",
              "\n",
              "                                               title  \\\n",
              "0  Online Facts New conspiracy theory: #Bel_Gates...   \n",
              "1  Revolutionary Guards: Corona could be an Ameri...   \n",
              "2  Yellow skin is the host environment of the vir...   \n",
              "3  China and Russia are doing what the European U...   \n",
              "4                                                      \n",
              "\n",
              "                                                text  \n",
              "0  Roger Stone suggested on Monday that Bill Gate...  \n",
              "1  Source\\nRussia Today |\\nIranian Revolutionary ...  \n",
              "2  Sudan news now from all sources sudanewsnow.co...  \n",
              "3  China and Russia are doing what the European U...  \n",
              "4  Fatal error: Uncaught MongoDB\\Driver\\Exception...  "
            ],
            "text/html": [
              "\n",
              "  <div id=\"df-593ddac8-3fa3-4c62-a183-e36fdd1ab579\">\n",
              "    <div class=\"colab-df-container\">\n",
              "      <div>\n",
              "<style scoped>\n",
              "    .dataframe tbody tr th:only-of-type {\n",
              "        vertical-align: middle;\n",
              "    }\n",
              "\n",
              "    .dataframe tbody tr th {\n",
              "        vertical-align: top;\n",
              "    }\n",
              "\n",
              "    .dataframe thead th {\n",
              "        text-align: right;\n",
              "    }\n",
              "</style>\n",
              "<table border=\"1\" class=\"dataframe\">\n",
              "  <thead>\n",
              "    <tr style=\"text-align: right;\">\n",
              "      <th></th>\n",
              "      <th>url</th>\n",
              "      <th>title</th>\n",
              "      <th>text</th>\n",
              "    </tr>\n",
              "  </thead>\n",
              "  <tbody>\n",
              "    <tr>\n",
              "      <th>0</th>\n",
              "      <td>https://nabd.com/s/71539812-b7228b/%D9%86%D8%B...</td>\n",
              "      <td>Online Facts New conspiracy theory: #Bel_Gates...</td>\n",
              "      <td>Roger Stone suggested on Monday that Bill Gate...</td>\n",
              "    </tr>\n",
              "    <tr>\n",
              "      <th>1</th>\n",
              "      <td>https://shamra.sy/news/article/8eb73454931e6d1...</td>\n",
              "      <td>Revolutionary Guards: Corona could be an Ameri...</td>\n",
              "      <td>Source\\nRussia Today |\\nIranian Revolutionary ...</td>\n",
              "    </tr>\n",
              "    <tr>\n",
              "      <th>2</th>\n",
              "      <td>https://sudanewsnow.com/19800/</td>\n",
              "      <td>Yellow skin is the host environment of the vir...</td>\n",
              "      <td>Sudan news now from all sources sudanewsnow.co...</td>\n",
              "    </tr>\n",
              "    <tr>\n",
              "      <th>3</th>\n",
              "      <td>https://arabic.rt.com/press/1100276-%D8%A7%D9%...</td>\n",
              "      <td>China and Russia are doing what the European U...</td>\n",
              "      <td>China and Russia are doing what the European U...</td>\n",
              "    </tr>\n",
              "    <tr>\n",
              "      <th>4</th>\n",
              "      <td>https://www.kachaf.com/details.php?n=5e8957fe1...</td>\n",
              "      <td></td>\n",
              "      <td>Fatal error: Uncaught MongoDB\\Driver\\Exception...</td>\n",
              "    </tr>\n",
              "  </tbody>\n",
              "</table>\n",
              "</div>\n",
              "      <button class=\"colab-df-convert\" onclick=\"convertToInteractive('df-593ddac8-3fa3-4c62-a183-e36fdd1ab579')\"\n",
              "              title=\"Convert this dataframe to an interactive table.\"\n",
              "              style=\"display:none;\">\n",
              "        \n",
              "  <svg xmlns=\"http://www.w3.org/2000/svg\" height=\"24px\"viewBox=\"0 0 24 24\"\n",
              "       width=\"24px\">\n",
              "    <path d=\"M0 0h24v24H0V0z\" fill=\"none\"/>\n",
              "    <path d=\"M18.56 5.44l.94 2.06.94-2.06 2.06-.94-2.06-.94-.94-2.06-.94 2.06-2.06.94zm-11 1L8.5 8.5l.94-2.06 2.06-.94-2.06-.94L8.5 2.5l-.94 2.06-2.06.94zm10 10l.94 2.06.94-2.06 2.06-.94-2.06-.94-.94-2.06-.94 2.06-2.06.94z\"/><path d=\"M17.41 7.96l-1.37-1.37c-.4-.4-.92-.59-1.43-.59-.52 0-1.04.2-1.43.59L10.3 9.45l-7.72 7.72c-.78.78-.78 2.05 0 2.83L4 21.41c.39.39.9.59 1.41.59.51 0 1.02-.2 1.41-.59l7.78-7.78 2.81-2.81c.8-.78.8-2.07 0-2.86zM5.41 20L4 18.59l7.72-7.72 1.47 1.35L5.41 20z\"/>\n",
              "  </svg>\n",
              "      </button>\n",
              "      \n",
              "  <style>\n",
              "    .colab-df-container {\n",
              "      display:flex;\n",
              "      flex-wrap:wrap;\n",
              "      gap: 12px;\n",
              "    }\n",
              "\n",
              "    .colab-df-convert {\n",
              "      background-color: #E8F0FE;\n",
              "      border: none;\n",
              "      border-radius: 50%;\n",
              "      cursor: pointer;\n",
              "      display: none;\n",
              "      fill: #1967D2;\n",
              "      height: 32px;\n",
              "      padding: 0 0 0 0;\n",
              "      width: 32px;\n",
              "    }\n",
              "\n",
              "    .colab-df-convert:hover {\n",
              "      background-color: #E2EBFA;\n",
              "      box-shadow: 0px 1px 2px rgba(60, 64, 67, 0.3), 0px 1px 3px 1px rgba(60, 64, 67, 0.15);\n",
              "      fill: #174EA6;\n",
              "    }\n",
              "\n",
              "    [theme=dark] .colab-df-convert {\n",
              "      background-color: #3B4455;\n",
              "      fill: #D2E3FC;\n",
              "    }\n",
              "\n",
              "    [theme=dark] .colab-df-convert:hover {\n",
              "      background-color: #434B5C;\n",
              "      box-shadow: 0px 1px 3px 1px rgba(0, 0, 0, 0.15);\n",
              "      filter: drop-shadow(0px 1px 2px rgba(0, 0, 0, 0.3));\n",
              "      fill: #FFFFFF;\n",
              "    }\n",
              "  </style>\n",
              "\n",
              "      <script>\n",
              "        const buttonEl =\n",
              "          document.querySelector('#df-593ddac8-3fa3-4c62-a183-e36fdd1ab579 button.colab-df-convert');\n",
              "        buttonEl.style.display =\n",
              "          google.colab.kernel.accessAllowed ? 'block' : 'none';\n",
              "\n",
              "        async function convertToInteractive(key) {\n",
              "          const element = document.querySelector('#df-593ddac8-3fa3-4c62-a183-e36fdd1ab579');\n",
              "          const dataTable =\n",
              "            await google.colab.kernel.invokeFunction('convertToInteractive',\n",
              "                                                     [key], {});\n",
              "          if (!dataTable) return;\n",
              "\n",
              "          const docLinkHtml = 'Like what you see? Visit the ' +\n",
              "            '<a target=\"_blank\" href=https://colab.research.google.com/notebooks/data_table.ipynb>data table notebook</a>'\n",
              "            + ' to learn more about interactive tables.';\n",
              "          element.innerHTML = '';\n",
              "          dataTable['output_type'] = 'display_data';\n",
              "          await google.colab.output.renderOutput(dataTable, element);\n",
              "          const docLink = document.createElement('div');\n",
              "          docLink.innerHTML = docLinkHtml;\n",
              "          element.appendChild(docLink);\n",
              "        }\n",
              "      </script>\n",
              "    </div>\n",
              "  </div>\n",
              "  "
            ]
          },
          "metadata": {},
          "execution_count": 8
        }
      ]
    },
    {
      "cell_type": "markdown",
      "source": [
        "2. DATA PREPROCESSING BY NLP"
      ],
      "metadata": {
        "id": "ATnQnx8Q-tG0"
      }
    },
    {
      "cell_type": "code",
      "source": [
        "real_train['label'] = 0\n",
        "real_test['label'] = 0\n",
        "fake_train['label'] = 1\n",
        "fake_test['label'] = 1\n",
        "\n",
        "train = pd.concat([real_train, fake_train], ignore_index=True)\n",
        "test = pd.concat([real_test, fake_test], ignore_index=True)"
      ],
      "metadata": {
        "id": "T0fjc4q--iic"
      },
      "execution_count": null,
      "outputs": []
    },
    {
      "cell_type": "code",
      "source": [
        "import re\n",
        "def clean_txt(text):\n",
        "    text = re.sub(\"'\", \"\", text)\n",
        "    text = re.sub(\"(\\\\W)+\", \" \", text)\n",
        "    text = text.lower()\n",
        "    return text\n",
        "\n",
        "train['text'] = train['text'].apply(clean_txt)\n",
        "test['text'] = test['text'].apply(clean_txt)"
      ],
      "metadata": {
        "id": "QPUnC4VeCR2b"
      },
      "execution_count": null,
      "outputs": []
    },
    {
      "cell_type": "markdown",
      "source": [
        "**PLOTTING DATA**"
      ],
      "metadata": {
        "id": "nm3CvNNXCct1"
      }
    },
    {
      "cell_type": "markdown",
      "source": [
        "Word Count histogram"
      ],
      "metadata": {
        "id": "V6DA3V2bCkwz"
      }
    },
    {
      "cell_type": "code",
      "source": [
        "train['word_count'] = [len(s.split()) for s in train['text']]\n",
        "#real \n",
        "sns.distplot(train['word_count'][train['label'] == 0], kde=False, rug=False)"
      ],
      "metadata": {
        "id": "H4h1rQBYCU_j"
      },
      "execution_count": null,
      "outputs": []
    },
    {
      "cell_type": "code",
      "source": [
        "#fake \n",
        "sns.distplot(train['word_count'][train['label'] == 1], kde=False, rug=False)"
      ],
      "metadata": {
        "id": "4lmalyStC44s"
      },
      "execution_count": null,
      "outputs": []
    },
    {
      "cell_type": "code",
      "source": [
        "sns.distplot(train['word_count'][(train['label'] == 1) & (train['word_count'] < 20000)], kde=False, rug=False)"
      ],
      "metadata": {
        "id": "8vEkxlOUIx2t"
      },
      "execution_count": null,
      "outputs": []
    },
    {
      "cell_type": "code",
      "source": [
        "from wordcloud import WordCloud\n",
        "\n",
        "def plot_wordcloud(target,width = 800, height = 400):\n",
        "    \"\"\"\n",
        "    Plot wordcloud of real/fake news\n",
        "    \n",
        "    target: real/fake\n",
        "    width: the width of plotted figure\n",
        "    height: the height of plotted figure\n",
        "    \"\"\"\n",
        "    if target == 'real':\n",
        "        t = 0\n",
        "    elif target == 'fake':\n",
        "        t = 1\n",
        "    text = ''\n",
        "    for t in train['text'][train['label'] == t]:\n",
        "        text = text + t\n",
        "    wordcloud = WordCloud(max_font_size=40, min_font_size=20, width=800, height = 400, random_state=0).generate(text)\n",
        "    plt.figure(figsize=(20,10))\n",
        "    plt.imshow(wordcloud, interpolation=\"bilinear\")\n",
        "    plt.axis(\"off\")\n",
        "    plt.show()"
      ],
      "metadata": {
        "id": "IWllQ4I3Iy_w"
      },
      "execution_count": null,
      "outputs": []
    },
    {
      "cell_type": "code",
      "source": [
        "plot_wordcloud('real',width = 800, height = 400)"
      ],
      "metadata": {
        "id": "KFQL_e4WI6fZ"
      },
      "execution_count": null,
      "outputs": []
    },
    {
      "cell_type": "code",
      "source": [
        "plot_wordcloud('fake',width = 800, height = 400)"
      ],
      "metadata": {
        "id": "ZRx7KzrRI-19"
      },
      "execution_count": null,
      "outputs": []
    },
    {
      "cell_type": "code",
      "source": [
        "# how many words in top 10, top 100, and top 1000\n",
        "from sklearn.feature_extraction.text import CountVectorizer\n",
        "from collections import Counter\n",
        "\n",
        "def concat_text(target):\n",
        "    \"\"\"\n",
        "    Concat the news into one large document and split it into a list.\n",
        "    \"\"\"\n",
        "    if target == 'real':\n",
        "        t = 0\n",
        "    elif target == 'fake':\n",
        "        t = 1\n",
        "        \n",
        "    text = ''\n",
        "    for t in train['text'][train['label'] == t]:\n",
        "        text = text + t\n",
        "    text = text.split(' ')\n",
        "\n",
        "    return text\n",
        "\n",
        "def most_frequent_words(text):\n",
        "      \"\"\"\n",
        "      Calculate and order the vocab by its frequency.\n",
        "      \"\"\"\n",
        "      ngram_vectorizer = CountVectorizer(analyzer='word', ngram_range=(1, 1), min_df=1)\n",
        "      X = ngram_vectorizer.fit_transform(text)\n",
        "      vocab = np.array(list(ngram_vectorizer.get_feature_names()))\n",
        "      counts = np.array(X.sum(axis=0).A1)\n",
        "      inds = counts.argsort()[::-1]\n",
        "      ordered_vocab = vocab[inds]\n",
        "\n",
        "      return ordered_vocab"
      ],
      "metadata": {
        "id": "AaiACborJFME"
      },
      "execution_count": null,
      "outputs": []
    },
    {
      "cell_type": "code",
      "source": [
        "def plot_topK_distribution(k1 = 10, k2 = 100, k3 = 1000):\n",
        "    \"\"\"\n",
        "    Plot the comparison bar chart between real and fake news.\n",
        "\n",
        "    k1: most common k1 words\n",
        "    k2: most common k2 words\n",
        "    k3: most common k3 words\n",
        "    \"\"\"\n",
        "    real_text = concat_text('real')\n",
        "    fake_text = concat_text('fake')\n",
        "\n",
        "    real_vocab = most_frequent_words(real_text)\n",
        "    fake_vocab = most_frequent_words(fake_text)\n",
        "    \n",
        "    x = ['top' + str(k1), 'top' + str(k2), 'top' + str(k3)] \n",
        "    label = ['real','real','real','fake','fake','fake']\n",
        "    y = [np.mean([s in real_vocab[1:k1] for s in real_text]),\n",
        "         np.mean([s in real_vocab[1:k2] for s in real_text]),\n",
        "         np.mean([s in real_vocab[1:k3] for s in real_text]),\n",
        "         np.mean([s in fake_vocab[1:k1] for s in fake_text]),\n",
        "         np.mean([s in fake_vocab[1:k2] for s in fake_text]),\n",
        "         np.mean([s in fake_vocab[1:k3] for s in fake_text])]\n",
        "\n",
        "    df = pd.DataFrame(zip(x*2, label, y), columns=[\"Topk\", \"Label\", \"Proportion\"])\n",
        "    sns.barplot(x=\"Topk\", hue=\"Label\", y=\"Proportion\", data=df)\n",
        "    plt.show()\n",
        "\n",
        "plot_topK_distribution(k1 = 10, k2 = 100, k3 = 1000)"
      ],
      "metadata": {
        "id": "zvbRVynmJGbb"
      },
      "execution_count": null,
      "outputs": []
    },
    {
      "cell_type": "markdown",
      "source": [
        "V modelling"
      ],
      "metadata": {
        "id": "eWa-k5N-JPLR"
      }
    },
    {
      "cell_type": "code",
      "source": [
        "from sklearn.model_selection import train_test_split\n",
        "train, val = train_test_split(train, test_size=0.2, random_state=35)"
      ],
      "metadata": {
        "id": "_AX9Bg9wJL-a"
      },
      "execution_count": null,
      "outputs": []
    },
    {
      "cell_type": "code",
      "source": [
        "def get_split(text):\n",
        "    \"\"\"\n",
        "    Split each news text to subtexts no longer than 150 words.\n",
        "    \"\"\"\n",
        "    l_total = []\n",
        "    l_parcial = []\n",
        "    if len(text.split())//120 >0:\n",
        "        n = len(text.split())//120\n",
        "    else: \n",
        "        n = 1\n",
        "    for w in range(n):\n",
        "        if w == 0:\n",
        "            l_parcial = text.split()[:150]\n",
        "            l_total.append(\" \".join(l_parcial))\n",
        "        else:\n",
        "            l_parcial = text.split()[w*120:w*120 + 150]\n",
        "            l_total.append(\" \".join(l_parcial))\n",
        "    return l_total\n",
        "\n",
        "train['text_split'] = train['text'].apply(get_split)\n",
        "val['text_split'] = val['text'].apply(get_split)\n",
        "test['text_split'] = test['text'].apply(get_split)"
      ],
      "metadata": {
        "id": "r-1SCkpzJTLU"
      },
      "execution_count": null,
      "outputs": []
    },
    {
      "cell_type": "code",
      "source": [
        "train['text_split'][1]"
      ],
      "metadata": {
        "id": "rgHbqsM9JWa2"
      },
      "execution_count": null,
      "outputs": []
    },
    {
      "cell_type": "code",
      "source": [
        "def data_augumentation(df, df_name):\n",
        "    \"\"\"\n",
        "    Create a new dataframe from the original one because now one text may contain multiple subtexts of length 200. \n",
        "    Text correspond to subtexts from original text, while index correspond to its index of original set.\n",
        "    \"\"\"\n",
        "    text_l = []\n",
        "    label_l = []\n",
        "    index_l = []\n",
        "    for idx,row in df.iterrows():\n",
        "      for l in row['text_split']:\n",
        "        text_l.append(l)\n",
        "        label_l.append(row['label'])\n",
        "        index_l.append(idx)\n",
        "    new_df = pd.DataFrame({'text':text_l, 'label':label_l, 'index':index_l})\n",
        "    print(\"The \" + df_name +\" set now has \" + str(len(new_df)) + ' subtexts extracted from ' + str(len(df)) + ' texts.')\n",
        "    return new_df\n",
        "\n",
        "train_df = data_augumentation(train, df_name = 'training')\n",
        "val_df = data_augumentation(val, df_name  = 'validation')\n",
        "test_df = data_augumentation(test, df_name = 'testing')"
      ],
      "metadata": {
        "id": "dKQ_sjDaJZm9"
      },
      "execution_count": null,
      "outputs": []
    },
    {
      "cell_type": "markdown",
      "source": [
        "Model Application"
      ],
      "metadata": {
        "id": "A6eSO6LXJqCH"
      }
    },
    {
      "cell_type": "markdown",
      "source": [
        "DATA PREPROCESSING"
      ],
      "metadata": {
        "id": "c7_JtECmJstv"
      }
    },
    {
      "cell_type": "code",
      "source": [
        "import re\n",
        "import string\n",
        "from sklearn.model_selection import train_test_split\n",
        "from sklearn.feature_extraction.text import TfidfVectorizer\n",
        "from sklearn.linear_model import PassiveAggressiveClassifier\n",
        "from sklearn.metrics import accuracy_score, confusion_matrix\n",
        "from sklearn.linear_model import LogisticRegression\n",
        "from sklearn.svm import SVC\n",
        "from sklearn.naive_bayes import MultinomialNB\n",
        "from sklearn.tree import DecisionTreeClassifier\n",
        "from sklearn.ensemble import RandomForestClassifier\n",
        "from sklearn.neural_network import MLPClassifier"
      ],
      "metadata": {
        "id": "N1p2nknfLD-G"
      },
      "execution_count": null,
      "outputs": []
    },
    {
      "cell_type": "code",
      "source": [
        "import nltk\n",
        "\n",
        "nltk.download(\"stopwords\")\n",
        "nltk.download(\"punkt\")"
      ],
      "metadata": {
        "id": "C0cAD211LJge"
      },
      "execution_count": null,
      "outputs": []
    },
    {
      "cell_type": "code",
      "source": [
        "from google.colab import files\n",
        "data_to_load = files.upload()"
      ],
      "metadata": {
        "id": "C5lz5cnDManj"
      },
      "execution_count": null,
      "outputs": []
    },
    {
      "cell_type": "code",
      "source": [
        "df_fake=pd.read_csv(\"Fake.csv\")\n",
        "df_true=pd.read_csv(\"True.csv\")"
      ],
      "metadata": {
        "id": "Xnv60zqfMl68"
      },
      "execution_count": null,
      "outputs": []
    },
    {
      "cell_type": "code",
      "source": [
        "df_fake[\"class\"]=0\n",
        "df_true[\"class\"]=1"
      ],
      "metadata": {
        "id": "zPYqqwlrMq8l"
      },
      "execution_count": null,
      "outputs": []
    },
    {
      "cell_type": "code",
      "source": [
        "df_fake.shape, df_true.shape"
      ],
      "metadata": {
        "id": "RldEB0iZMtif"
      },
      "execution_count": null,
      "outputs": []
    },
    {
      "cell_type": "code",
      "source": [
        "df_fake_manual_testing=df_fake.tail(10)\n",
        "for i in range(23480,23470,-1):\n",
        "    df_fake.drop([i],axis=0, inplace=True)\n",
        "    df_true_manual_testing=df_true.tail(10)\n",
        "for i in range(21416,21406, -1):\n",
        "    df_true.drop([i], axis=0, inplace=True)"
      ],
      "metadata": {
        "id": "_oI8EY3DMuUN"
      },
      "execution_count": null,
      "outputs": []
    },
    {
      "cell_type": "code",
      "source": [
        "df_manual_testing=pd.concat([df_fake_manual_testing, df_true_manual_testing],axis=0)\n",
        "df_manual_testing.to_csv(\"manual_testing.csv\")"
      ],
      "metadata": {
        "id": "v8XN3hHWMwe6"
      },
      "execution_count": null,
      "outputs": []
    },
    {
      "cell_type": "code",
      "source": [
        "df_merge=pd.concat([df_fake, df_true], axis=0)"
      ],
      "metadata": {
        "id": "pEDhBSN0MzAm"
      },
      "execution_count": null,
      "outputs": []
    },
    {
      "cell_type": "code",
      "source": [
        "df=df_merge.drop([\"title\", \"subject\", \"date\"], axis=1)"
      ],
      "metadata": {
        "id": "M7QQN458M08B"
      },
      "execution_count": null,
      "outputs": []
    },
    {
      "cell_type": "code",
      "source": [
        "df=df.sample(frac=1)"
      ],
      "metadata": {
        "id": "WYK9NoATM3Os"
      },
      "execution_count": null,
      "outputs": []
    },
    {
      "cell_type": "code",
      "source": [
        "df.isnull().sum()"
      ],
      "metadata": {
        "id": "8kdQlF8hM5S4"
      },
      "execution_count": null,
      "outputs": []
    },
    {
      "cell_type": "code",
      "source": [
        "def word_drop(text):\n",
        "    text=text.lower()\n",
        "    text=re.sub('\\[.*?\\]','',text)\n",
        "    text=re.sub(\"\\\\W\",\" \",text)\n",
        "    text=re.sub('https?://\\S+|www\\.\\S+', '',text)\n",
        "    text=re.sub('<.?>+', '',text)\n",
        "    text=re.sub('[%s]' % re.escape(string.punctuation), '', text)\n",
        "    text=re.sub('\\n', '',text)\n",
        "    text=re.sub('\\w*\\d\\w*','',text)\n",
        "    return text"
      ],
      "metadata": {
        "id": "NWNeVGHHM7aY"
      },
      "execution_count": null,
      "outputs": []
    },
    {
      "cell_type": "code",
      "source": [
        "df[\"text\"]=df[\"text\"].apply(word_drop)"
      ],
      "metadata": {
        "id": "deapKnqfM-Fq"
      },
      "execution_count": null,
      "outputs": []
    },
    {
      "cell_type": "code",
      "source": [
        "x=df[\"text\"]\n",
        "y=df[\"class\"]"
      ],
      "metadata": {
        "id": "LOgE2-zfNAdE"
      },
      "execution_count": null,
      "outputs": []
    },
    {
      "cell_type": "code",
      "source": [
        "x_train, x_test, y_train,y_test=train_test_split(x,y,test_size=.25)"
      ],
      "metadata": {
        "id": "Yc7uDKYxNCMq"
      },
      "execution_count": null,
      "outputs": []
    },
    {
      "cell_type": "code",
      "source": [
        "from sklearn.feature_extraction.text import TfidfVectorizer"
      ],
      "metadata": {
        "id": "yfe9B7XzNEWA"
      },
      "execution_count": null,
      "outputs": []
    },
    {
      "cell_type": "code",
      "source": [
        "vectorization=TfidfVectorizer()\n",
        "xv_train=vectorization.fit_transform(x_train)\n",
        "xv_test=vectorization.transform(x_test)"
      ],
      "metadata": {
        "id": "MXhrjor1NGQ9"
      },
      "execution_count": null,
      "outputs": []
    },
    {
      "cell_type": "markdown",
      "source": [
        "LOGISTIC REGRESSION"
      ],
      "metadata": {
        "id": "xHWfTtmIO6s4"
      }
    },
    {
      "cell_type": "code",
      "source": [
        "from sklearn.linear_model import LogisticRegression"
      ],
      "metadata": {
        "id": "g02AtEYFNIWG"
      },
      "execution_count": null,
      "outputs": []
    },
    {
      "cell_type": "code",
      "source": [
        "LR=LogisticRegression()\n",
        "LR.fit(xv_train,y_train)"
      ],
      "metadata": {
        "id": "mYeQ7T0CPHKL"
      },
      "execution_count": null,
      "outputs": []
    },
    {
      "cell_type": "code",
      "source": [
        "LR.score(xv_test,y_test)"
      ],
      "metadata": {
        "id": "kqxHzOJhQG7B"
      },
      "execution_count": null,
      "outputs": []
    },
    {
      "cell_type": "code",
      "source": [
        "pred_LR=LR.predict(xv_test)"
      ],
      "metadata": {
        "id": "3CvZauo2QLJz"
      },
      "execution_count": null,
      "outputs": []
    },
    {
      "cell_type": "code",
      "source": [
        "print(classification_report(y_test,pred_LR))"
      ],
      "metadata": {
        "id": "OxTAv4L_QMHT"
      },
      "execution_count": null,
      "outputs": []
    },
    {
      "cell_type": "markdown",
      "source": [
        "Decision Tree Classifcication"
      ],
      "metadata": {
        "id": "Kh8NJfoqQIhS"
      }
    },
    {
      "cell_type": "code",
      "source": [
        "from sklearn.tree import DecisionTreeClassifier"
      ],
      "metadata": {
        "id": "MKXqyWX-QZGy"
      },
      "execution_count": null,
      "outputs": []
    },
    {
      "cell_type": "code",
      "source": [
        "DT=DecisionTreeClassifier()\n",
        "DT.fit(xv_train,y_train)"
      ],
      "metadata": {
        "id": "rGkCTc8tQilr"
      },
      "execution_count": null,
      "outputs": []
    },
    {
      "cell_type": "code",
      "source": [
        "DT.score(xv_test,y_test)"
      ],
      "metadata": {
        "id": "mzCE-LdrQkCS"
      },
      "execution_count": null,
      "outputs": []
    },
    {
      "cell_type": "code",
      "source": [
        "pred_DT=DT.predict(xv_test)"
      ],
      "metadata": {
        "id": "fByrrkMQQj4r"
      },
      "execution_count": null,
      "outputs": []
    },
    {
      "cell_type": "code",
      "source": [
        "from sklearn.metrics import classification_report"
      ],
      "metadata": {
        "id": "DgDSvRJZQjvU"
      },
      "execution_count": null,
      "outputs": []
    },
    {
      "cell_type": "code",
      "source": [
        "print(classification_report(y_test,pred_DT))"
      ],
      "metadata": {
        "id": "DoMFzkfzQjlX"
      },
      "execution_count": null,
      "outputs": []
    },
    {
      "cell_type": "markdown",
      "source": [
        "Random Forest Classifier"
      ],
      "metadata": {
        "id": "XJ36WG7xQtos"
      }
    },
    {
      "cell_type": "code",
      "source": [
        "from sklearn.ensemble import RandomForestClassifier"
      ],
      "metadata": {
        "id": "lbovDmnMQjV5"
      },
      "execution_count": null,
      "outputs": []
    },
    {
      "cell_type": "code",
      "source": [
        "RFC=RandomForestClassifier(random_state=0)"
      ],
      "metadata": {
        "id": "ftGKNQphQx7j"
      },
      "execution_count": null,
      "outputs": []
    },
    {
      "cell_type": "code",
      "source": [
        "RFC=RandomForestClassifier(random_state=0)\n",
        "RFC.fit(xv_train,y_train)"
      ],
      "metadata": {
        "id": "FIYSX8geQzCZ"
      },
      "execution_count": null,
      "outputs": []
    },
    {
      "cell_type": "code",
      "source": [
        "RFC.score(xv_test,y_test)"
      ],
      "metadata": {
        "id": "PCVen8gZQ1Bf"
      },
      "execution_count": null,
      "outputs": []
    },
    {
      "cell_type": "code",
      "source": [
        "pred_RFC=RFC.predict(xv_test)"
      ],
      "metadata": {
        "id": "mp-AmOnlQ2wM"
      },
      "execution_count": null,
      "outputs": []
    },
    {
      "cell_type": "code",
      "source": [
        "print(classification_report(y_test,pred_RFC))"
      ],
      "metadata": {
        "id": "vP-uj7bDQ4mO"
      },
      "execution_count": null,
      "outputs": []
    }
  ]
}